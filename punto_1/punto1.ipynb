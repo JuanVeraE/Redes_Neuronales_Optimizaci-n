{
  "nbformat": 4,
  "nbformat_minor": 0,
  "metadata": {
    "colab": {
      "provenance": [],
      "toc_visible": true
    },
    "kernelspec": {
      "name": "python3",
      "display_name": "Python 3"
    },
    "language_info": {
      "name": "python"
    }
  },
  "cells": [
    {
      "cell_type": "markdown",
      "source": [
        "# Optimización con decenso del gradiente"
      ],
      "metadata": {
        "id": "IBqEEg2DnWvp"
      }
    },
    {
      "cell_type": "markdown",
      "source": [
        "### Decenso por gradiente"
      ],
      "metadata": {
        "id": "9EZubuD3lSqI"
      }
    },
    {
      "cell_type": "code",
      "source": [
        "import numpy as np\n",
        "import matplotlib.pyplot as plt\n",
        "from matplotlib.animation import FuncAnimation\n",
        "\n",
        "np.random.seed(111)\n",
        "\n",
        "def descenso_por_gradiente(funcion, gradiente_funcion, x_inicial, tasa_aprendizaje=0.01, max_iter=1000, tolerancia=1e-6):\n",
        "    \"\"\"\n",
        "    Optimiza una función objetivo utilizando el método de descenso por gradiente.\n",
        "    \"\"\"\n",
        "    x = np.array(x_inicial, dtype=float)\n",
        "    for i in range(max_iter):\n",
        "        gradiente = gradiente_funcion(x)\n",
        "        norma_gradiente = np.linalg.norm(gradiente)\n",
        "\n",
        "        if norma_gradiente < tolerancia:\n",
        "            print(f\"Convergencia alcanzada en {i + 1} iteraciones con gradiente {norma_gradiente:.2e}.\")\n",
        "            break\n",
        "\n",
        "        # Actualización del valor de x\n",
        "        x -= np.array(tasa_aprendizaje * gradiente, dtype=float)\n",
        "\n",
        "    else:\n",
        "        print(\"Se alcanzó el número máximo de iteraciones sin convergencia.\")\n",
        "\n",
        "    return x, funcion(x), i + 1\n",
        "\n",
        "\n",
        "def descenso_por_gradiente_con_historial(funcion, gradiente_funcion, x_inicial, tasa_aprendizaje=0.01, max_iter=1000, tolerancia=1e-6):\n",
        "    x = np.array(x_inicial, dtype=float)\n",
        "    historial = [x.copy()]  # Registro del historial de puntos\n",
        "    valores_funcion = [funcion(x)]  # Registro de valores de la función\n",
        "\n",
        "    for i in range(max_iter):\n",
        "        gradiente = gradiente_funcion(x)\n",
        "        max_grad_norm = 1e15\n",
        "        gradiente = gradiente_funcion(x)\n",
        "        if np.linalg.norm(gradiente) > max_grad_norm:\n",
        "          gradiente = gradiente / np.linalg.norm(gradiente) * max_grad_norm\n",
        "        norma_gradiente = np.linalg.norm(gradiente)\n",
        "\n",
        "        if norma_gradiente < tolerancia:\n",
        "            print(f\"Convergencia alcanzada en {i + 1} iteraciones con gradiente {norma_gradiente:.2e}.\")\n",
        "            break\n",
        "\n",
        "        x -= np.array(tasa_aprendizaje * gradiente, dtype=float)\n",
        "        if i % 10 == 0:  # Guardar cada 10 iteraciones\n",
        "            historial.append(x.copy())\n",
        "            valores_funcion.append(funcion(x))\n",
        "\n",
        "    historial.append(x.copy())  # Guardar el punto final\n",
        "    valores_funcion.append(funcion(x))\n",
        "\n",
        "    # Encontrar el punto más pequeño visitado\n",
        "    min_index = np.argmin(valores_funcion)\n",
        "    return x, funcion(x), i + 1, historial, min_index\n",
        "\n"
      ],
      "metadata": {
        "id": "xAdUz7maoDod"
      },
      "execution_count": 1,
      "outputs": []
    },
    {
      "cell_type": "markdown",
      "source": [
        "## Rosenbrock"
      ],
      "metadata": {
        "id": "T8XfxDo0neWG"
      }
    },
    {
      "cell_type": "markdown",
      "source": [
        "### Definición de la función de Rosenbrock y su gradiente"
      ],
      "metadata": {
        "id": "B-933bEQlIcl"
      }
    },
    {
      "cell_type": "code",
      "source": [
        "def funcion_rosenbrock(x, a=1, b=100):\n",
        "    \"\"\"Calcula el valor de la función de Rosenbrock para un vector x.\n",
        "\n",
        "    Args:\n",
        "      x (array): Vector de entrada (debe ser de tamaño 2).\n",
        "      a (float): Parámetro de la función (por defecto 1).\n",
        "      b (float): Parámetro de la función (por defecto 100).\n",
        "\n",
        "    Retorna:\n",
        "    float: Valor de la función de Rosenbrock.\n",
        "    \"\"\"\n",
        "    if len(x) < 2:\n",
        "        raise ValueError(\"La función de Rosenbrock está implementada solo para al menos 2 dimensiones.\")\n",
        "    return (a - x[0])**2 + b * (x[1] - x[0]**2)**2 + sum((a - x[i])**2 + b * (x[i+1] - x[i]**2)**2 for i in range(1, len(x)-1))\n",
        "\n",
        "def gradiente_rosenbrock(x, a=1, b=100):\n",
        "    \"\"\"Calcula el gradiente de la función de Rosenbrock en un punto x.\n",
        "\n",
        "    Args:\n",
        "      x (array): Vector de entrada de tamaño n.\n",
        "      a (float): Parámetro de la función (por defecto 1).\n",
        "      b (float): Parámetro de la función (por defecto 100).\n",
        "\n",
        "    Returns:\n",
        "      array: Gradiente de la función de Rosenbrock.\n",
        "\n",
        "    \"\"\"\n",
        "    n = len(x)\n",
        "    gradiente = np.zeros_like(x)\n",
        "\n",
        "    for i in range(n):\n",
        "\n",
        "        if i == 0:\n",
        "            gradiente[i] = -2 * (a - x[i]) - 4 * b * x[i] * (x[i + 1] - x[i]**2)\n",
        "        elif i == n - 1:\n",
        "            gradiente[i] = 2 * b * (x[i] - x[i - 1]**2)\n",
        "        else:\n",
        "            gradiente[i] = -2 * (a - x[i]) - 4 * b * x[i] * (x[i + 1] - x[i]**2) + 2 * b * (x[i] - x[i - 1]**2)\n",
        "\n",
        "    return gradiente"
      ],
      "metadata": {
        "id": "X4W5YSz_AwSD"
      },
      "execution_count": 2,
      "outputs": []
    },
    {
      "cell_type": "markdown",
      "source": [
        "### Ejecución para 2 y 3 dimensiones"
      ],
      "metadata": {
        "id": "8KNoxDC5My09"
      }
    },
    {
      "cell_type": "code",
      "source": [
        "def prueba_con_condiciones_aleatorias_rosenbrock(dimensiones=2):\n",
        "    x_inicial = np.random.uniform(-5, 5, size=dimensiones)\n",
        "    print(f\"Condición inicial aleatoria: {x_inicial}\")\n",
        "\n",
        "    resultado = descenso_por_gradiente(funcion_rosenbrock, gradiente_rosenbrock, x_inicial, tasa_aprendizaje=0.0001, max_iter=100000000)\n",
        "\n",
        "    print(\"Punto óptimo:\", resultado[0])\n",
        "    print(\"Valor en el óptimo:\", resultado[1])\n",
        "    print(\"Iteraciones:\", resultado[2])\n",
        "\n",
        "print(\"prueba para 3 dimensiones\")\n",
        "prueba_con_condiciones_aleatorias_rosenbrock(dimensiones=3)\n",
        "\n",
        "print(\"\\n\")\n",
        "print(\"prueba para 2 dimensiones\")\n",
        "prueba_con_condiciones_aleatorias_rosenbrock(dimensiones=2)"
      ],
      "metadata": {
        "colab": {
          "base_uri": "https://localhost:8080/"
        },
        "id": "eMoiI1O0Mu8x",
        "outputId": "a1f1e06a-2f51-4d24-ea9f-a596a4439936"
      },
      "execution_count": 3,
      "outputs": [
        {
          "output_type": "stream",
          "name": "stdout",
          "text": [
            "prueba para 3 dimensiones\n",
            "Condición inicial aleatoria: [ 1.12170176 -3.30930246 -0.63940981]\n",
            "Convergencia alcanzada en 268560 iteraciones con gradiente 1.00e-06.\n",
            "Punto óptimo: [0.99999954 0.99999908 0.99999816]\n",
            "Valor en el óptimo: 1.0521959649743357e-12\n",
            "Iteraciones: 268560\n",
            "\n",
            "\n",
            "prueba para 2 dimensiones\n",
            "Condición inicial aleatoria: [ 2.69262473 -2.04674696]\n",
            "Convergencia alcanzada en 313013 iteraciones con gradiente 1.00e-06.\n",
            "Punto óptimo: [0.99999888 0.99999776]\n",
            "Valor en el óptimo: 1.2519569937887262e-12\n",
            "Iteraciones: 313013\n"
          ]
        }
      ]
    },
    {
      "cell_type": "markdown",
      "source": [
        "### Grafico en 2d demostrativo"
      ],
      "metadata": {
        "id": "RgdKsJzjKUp2"
      }
    },
    {
      "cell_type": "code",
      "source": [
        "def crear_video_rosenbrock(historial, min_index, dimensiones=2, a=1, b=100, filename=\"rosenbrock_optim.mp4\", fps=30, duracion=10):\n",
        "    x = np.linspace(-2, 2, 400)\n",
        "    y = np.linspace(-1, 3, 400)\n",
        "    X, Y = np.meshgrid(x, y)\n",
        "    Z = (a - X)**2 + b * (Y - X**2)**2\n",
        "\n",
        "    # Interpolación para ajustar historial a la duración y los FPS\n",
        "    total_frames = fps * duracion\n",
        "    indices = np.linspace(0, len(historial) - 1, total_frames).astype(int)\n",
        "    historial_interpolado = [historial[i] for i in indices]\n",
        "\n",
        "    fig, ax = plt.subplots(figsize=(6, 6))\n",
        "    ax.contourf(X, Y, Z, levels=50, cmap=\"viridis\", alpha=0.6)\n",
        "    ax.contour(X, Y, Z, levels=10, colors=\"white\", linewidths=0.5)\n",
        "\n",
        "    # Inicializar puntos\n",
        "    point, = ax.plot([], [], \"ro\", markersize=5)  # Punto móvil (rojo)\n",
        "    min_point, = ax.plot([], [], \"go\", markersize=10)  # Punto más pequeño dinámico (verde)\n",
        "    final_point, = ax.plot([], [], \"bo\", markersize=10)  # Punto final estático (azul)\n",
        "\n",
        "    # Función de Rosenbrock para evaluar valores de Z\n",
        "    def rosenbrock_value(x):\n",
        "        return (a - x[0])**2 + b * (x[1] - x[0]**2)**2\n",
        "\n",
        "    def actualizar(frame):\n",
        "        # Actualizar punto móvil (rojo)\n",
        "        point.set_data(historial_interpolado[frame][0], historial_interpolado[frame][1])\n",
        "\n",
        "        # Calcular el punto más pequeño dinámicamente (verde)\n",
        "        valores_actuales = [rosenbrock_value(historial_interpolado[i]) for i in range(frame + 1)]\n",
        "\n",
        "        # El punto final permanece estático (azul)\n",
        "        final_point.set_data(1, 1)\n",
        "\n",
        "        return point, final_point\n",
        "\n",
        "    anim = FuncAnimation(fig, actualizar, frames=total_frames, interval=1000/fps, blit=True)\n",
        "    anim.save(filename, writer=\"pillow\", fps=fps)  # Cambiado a \"pillow\" para guardar GIF\n",
        "    plt.close(fig)\n",
        "\n",
        "\n",
        "def prueba_con_condiciones_aleatorias_rosenbrock_video(dimensiones=2, tasa_aprendizaje=0.001):\n",
        "    x_inicial = np.random.uniform(-5, 5, size=dimensiones)\n",
        "    print(f\"Condición inicial aleatoria: {x_inicial}\")\n",
        "\n",
        "    resultado = descenso_por_gradiente_con_historial(\n",
        "        funcion_rosenbrock, gradiente_rosenbrock, x_inicial, tasa_aprendizaje=tasa_aprendizaje, max_iter=10000000\n",
        "    )\n",
        "\n",
        "    print(\"Punto óptimo:\", resultado[0])\n",
        "    print(\"Valor en el óptimo:\", resultado[1])\n",
        "    print(\"Iteraciones:\", resultado[2])\n",
        "\n",
        "    crear_video_rosenbrock(resultado[3], resultado[4], filename=f\"rosenbrock_optim_{tasa_aprendizaje}.gif\")\n",
        "    print(\"Video generado y guardado como 'rosenbrock_optim.gif'.\")\n",
        "\n",
        "prueba_con_condiciones_aleatorias_rosenbrock_video(tasa_aprendizaje=0.0001)"
      ],
      "metadata": {
        "colab": {
          "base_uri": "https://localhost:8080/"
        },
        "id": "ZVlubhQO3_bc",
        "outputId": "74de3148-9919-4892-949b-1b8c49139b59"
      },
      "execution_count": 4,
      "outputs": [
        {
          "output_type": "stream",
          "name": "stdout",
          "text": [
            "Condición inicial aleatoria: [-3.50837043 -4.77521675]\n",
            "Convergencia alcanzada en 313248 iteraciones con gradiente 1.00e-06.\n",
            "Punto óptimo: [0.99999888 0.99999776]\n",
            "Valor en el óptimo: 1.2519849928253419e-12\n",
            "Iteraciones: 313248\n"
          ]
        },
        {
          "output_type": "stream",
          "name": "stderr",
          "text": [
            "<ipython-input-4-f986a609106a>:27: MatplotlibDeprecationWarning: Setting data with a non sequence type is deprecated since 3.7 and will be remove two minor releases later\n",
            "  point.set_data(historial_interpolado[frame][0], historial_interpolado[frame][1])\n",
            "<ipython-input-4-f986a609106a>:33: MatplotlibDeprecationWarning: Setting data with a non sequence type is deprecated since 3.7 and will be remove two minor releases later\n",
            "  final_point.set_data(1, 1)\n",
            "<ipython-input-4-f986a609106a>:27: MatplotlibDeprecationWarning: Setting data with a non sequence type is deprecated since 3.7 and will be remove two minor releases later\n",
            "  point.set_data(historial_interpolado[frame][0], historial_interpolado[frame][1])\n",
            "<ipython-input-4-f986a609106a>:33: MatplotlibDeprecationWarning: Setting data with a non sequence type is deprecated since 3.7 and will be remove two minor releases later\n",
            "  final_point.set_data(1, 1)\n"
          ]
        },
        {
          "output_type": "stream",
          "name": "stdout",
          "text": [
            "Video generado y guardado como 'rosenbrock_optim.gif'.\n"
          ]
        }
      ]
    },
    {
      "cell_type": "markdown",
      "source": [],
      "metadata": {
        "id": "bj0-dCOy4HmL"
      }
    },
    {
      "cell_type": "markdown",
      "source": [
        "## Rastrigin"
      ],
      "metadata": {
        "id": "FXE5s_r4oB7m"
      }
    },
    {
      "cell_type": "markdown",
      "source": [
        "### Definición de la función de Rastrigin y su gradiente"
      ],
      "metadata": {
        "id": "xxnApo9zsFWM"
      }
    },
    {
      "cell_type": "code",
      "source": [
        "def funcion_rastrigin(x, A=10):\n",
        "    \"\"\"Calcula el valor de la función de Rastrigin para un vector x.\n",
        "\n",
        "    Args:\n",
        "      x (array): Vector de entrada.\n",
        "      A (float): Parámetro de la función (por defecto 10).\n",
        "\n",
        "    Retorna:\n",
        "      float: Valor de la función de Rastrigin.\n",
        "    \"\"\"\n",
        "    n = len(x)\n",
        "    return A * n + np.sum(x**2 - A * np.cos(2 * np.pi * x))\n",
        "\n",
        "def gradiente_rastrigin(x, A=10):\n",
        "    \"\"\"Calcula el gradiente de la función de Rastrigin en un punto x.\n",
        "\n",
        "    Args:\n",
        "      x (array): Vector de entrada de tamaño n.\n",
        "      A (float): Parámetro de la función (por defecto 10).\n",
        "\n",
        "    Returns:\n",
        "      array: Gradiente de la función de Rastrigin.\n",
        "    \"\"\"\n",
        "    gradiente = 2 * x + 2 * np.pi * A * np.sin(2 * np.pi * x)\n",
        "    grad = gradiente + np.random.normal(0, 0.1, size=x.shape)\n",
        "    return grad\n",
        "\n"
      ],
      "metadata": {
        "id": "of3iCzJWoaRx"
      },
      "execution_count": 5,
      "outputs": []
    },
    {
      "cell_type": "markdown",
      "source": [
        "### Ejecución para 2 y 3 dimensiones"
      ],
      "metadata": {
        "id": "fJrEBpH8nEni"
      }
    },
    {
      "cell_type": "code",
      "source": [
        "def prueba_con_condiciones_aleatorias_rastrigin(dimensiones=2, tasa_aprendizaje=0.01, max_iter=10000000):\n",
        "    \"\"\"Prueba el descenso por gradiente en la función de Rastrigin con condiciones iniciales aleatorias.\n",
        "\n",
        "    Args:\n",
        "      dimensiones (int): Número de dimensiones de la función (por defecto 2).\n",
        "\n",
        "    Retorna:\n",
        "      None: Imprime el resultado del descenso por gradiente.\n",
        "    \"\"\"\n",
        "    x_inicial = np.random.uniform(-5.12, 5.12, size=dimensiones)\n",
        "    print(f\"Condición inicial aleatoria: {x_inicial}\")\n",
        "\n",
        "    resultado = descenso_por_gradiente(funcion_rastrigin, gradiente_rastrigin, x_inicial, tasa_aprendizaje=0.1, max_iter=1000000)\n",
        "\n",
        "    print(\"Punto óptimo:\", resultado[0])\n",
        "    print(\"Valor en el óptimo:\", resultado[1])\n",
        "    print(\"Iteraciones:\", resultado[2])\n",
        "\n",
        "print(\"prueba para 3 dimensiones\")\n",
        "prueba_con_condiciones_aleatorias_rastrigin(dimensiones=3)\n",
        "\n",
        "print(\"\\nprueba para 2 dimensiones\")\n",
        "prueba_con_condiciones_aleatorias_rastrigin(dimensiones=2)"
      ],
      "metadata": {
        "colab": {
          "base_uri": "https://localhost:8080/"
        },
        "id": "eeGxDOE2pD76",
        "outputId": "d2b3eab2-e90a-47bb-deb2-24f6621075da"
      },
      "execution_count": 6,
      "outputs": [
        {
          "output_type": "stream",
          "name": "stdout",
          "text": [
            "prueba para 3 dimensiones\n",
            "Condición inicial aleatoria: [-0.8169012  -2.67589487 -1.6624006 ]\n",
            "Se alcanzó el número máximo de iteraciones sin convergencia.\n",
            "Punto óptimo: [-17.72910772  11.68829462 -15.69440587]\n",
            "Valor en el óptimo: 735.7639401106309\n",
            "Iteraciones: 1000000\n",
            "\n",
            "prueba para 2 dimensiones\n",
            "Condición inicial aleatoria: [-1.43449338  2.39157752]\n",
            "Se alcanzó el número máximo de iteraciones sin convergencia.\n",
            "Punto óptimo: [ 2.48313895 -0.90610953]\n",
            "Valor en el óptimo: 28.621159076720424\n",
            "Iteraciones: 1000000\n"
          ]
        }
      ]
    },
    {
      "cell_type": "markdown",
      "source": [
        "### Creación de ilustración en 2d"
      ],
      "metadata": {
        "id": "qd9Rd5BGnMJG"
      }
    },
    {
      "cell_type": "code",
      "source": [
        "def crear_video_rastrigin(historial, min_index, dimensiones=2, A=10, filename=\"rastrigin_optim.mp4\", fps=30, duracion=10):\n",
        "    x = np.linspace(-5.12, 5.12, 400)\n",
        "    y = np.linspace(-5.12, 5.12, 400)\n",
        "    X, Y = np.meshgrid(x, y)\n",
        "    Z = A * len(X) + (X**2 - A * np.cos(2 * np.pi * X)) + (Y**2 - A * np.cos(2 * np.pi * Y))\n",
        "\n",
        "    # Interpolación para ajustar historial a la duración y los FPS\n",
        "    total_frames = fps * duracion\n",
        "    indices = np.linspace(0, len(historial) - 1, total_frames).astype(int)\n",
        "    historial_interpolado = [historial[i] for i in indices]\n",
        "\n",
        "    fig, ax = plt.subplots(figsize=(6, 6))\n",
        "    ax.contourf(X, Y, Z, levels=50, cmap=\"viridis\", alpha=0.6)\n",
        "    ax.contour(X, Y, Z, levels=10, colors=\"white\", linewidths=0.5)\n",
        "\n",
        "    # Inicializar puntos\n",
        "    point, = ax.plot([], [], \"ro\", markersize=5)  # Punto móvil (rojo)\n",
        "    min_point, = ax.plot([], [], \"go\", markersize=10)  # Punto más pequeño dinámico (verde)\n",
        "    final_point, = ax.plot([], [], \"bo\", markersize=10)  # Punto final estático (azul)\n",
        "\n",
        "    # Función de Rastrigin para evaluar valores de Z\n",
        "    def rastrigin_value(x):\n",
        "        return A * len(x) + np.sum(x**2 - A * np.cos(2 * np.pi * x))\n",
        "\n",
        "    def actualizar(frame):\n",
        "        # Actualizar punto móvil (rojo)\n",
        "        point.set_data(historial_interpolado[frame][0], historial_interpolado[frame][1])\n",
        "\n",
        "        # Calcular el punto más pequeño dinámicamente (verde)\n",
        "        valores_actuales = [rastrigin_value(historial_interpolado[i]) for i in range(frame + 1)]\n",
        "\n",
        "        # El punto final permanece estático (azul)\n",
        "        final_point.set_data(0, 0)\n",
        "\n",
        "        return point, final_point\n",
        "\n",
        "    anim = FuncAnimation(fig, actualizar, frames=total_frames, interval=1000/fps, blit=True)\n",
        "    anim.save(filename, writer=\"pillow\", fps=fps)  # Cambiado a \"pillow\" para guardar GIF\n",
        "    plt.close(fig)\n",
        "\n",
        "\n",
        "def prueba_con_condiciones_aleatorias_rastrigin_video(dimensiones=2, tasa_aprendizaje=0.01, max_iter=1000000):\n",
        "    x_inicial = np.random.uniform(-5.12, 5.12, size=dimensiones)\n",
        "    print(f\"Condición inicial aleatoria: {x_inicial}\")\n",
        "\n",
        "    resultado = descenso_por_gradiente_con_historial(\n",
        "        funcion_rastrigin, gradiente_rastrigin, x_inicial, tasa_aprendizaje=tasa_aprendizaje, max_iter=max_iter\n",
        "    )\n",
        "\n",
        "    print(\"Punto óptimo:\", resultado[0])\n",
        "    print(\"Valor en el óptimo:\", resultado[1])\n",
        "    print(\"Iteraciones:\", resultado[2])\n",
        "\n",
        "    crear_video_rastrigin(resultado[3], resultado[4], filename=f\"rastrigin_optim_{tasa_aprendizaje}.gif\")\n",
        "    print(\"Video generado y guardado como 'rastrigin_optim.gif'.\")\n",
        "\n",
        "prueba_con_condiciones_aleatorias_rastrigin_video()"
      ],
      "metadata": {
        "colab": {
          "base_uri": "https://localhost:8080/"
        },
        "id": "kRsthhMNNzIt",
        "outputId": "2f0fcf48-8546-4b1b-b9ab-58b0dff62682"
      },
      "execution_count": 8,
      "outputs": [
        {
          "output_type": "stream",
          "name": "stdout",
          "text": [
            "Condición inicial aleatoria: [-4.78426826  3.18296741]\n",
            "Punto óptimo: [-2.70030128  2.54803406]\n",
            "Valor en el óptimo: 46.404275132306815\n",
            "Iteraciones: 1000000\n"
          ]
        },
        {
          "output_type": "stream",
          "name": "stderr",
          "text": [
            "<ipython-input-8-b257bfb4b9b1>:27: MatplotlibDeprecationWarning: Setting data with a non sequence type is deprecated since 3.7 and will be remove two minor releases later\n",
            "  point.set_data(historial_interpolado[frame][0], historial_interpolado[frame][1])\n",
            "<ipython-input-8-b257bfb4b9b1>:33: MatplotlibDeprecationWarning: Setting data with a non sequence type is deprecated since 3.7 and will be remove two minor releases later\n",
            "  final_point.set_data(0, 0)\n",
            "<ipython-input-8-b257bfb4b9b1>:27: MatplotlibDeprecationWarning: Setting data with a non sequence type is deprecated since 3.7 and will be remove two minor releases later\n",
            "  point.set_data(historial_interpolado[frame][0], historial_interpolado[frame][1])\n",
            "<ipython-input-8-b257bfb4b9b1>:33: MatplotlibDeprecationWarning: Setting data with a non sequence type is deprecated since 3.7 and will be remove two minor releases later\n",
            "  final_point.set_data(0, 0)\n"
          ]
        },
        {
          "output_type": "stream",
          "name": "stdout",
          "text": [
            "Video generado y guardado como 'rastrigin_optim.gif'.\n"
          ]
        }
      ]
    },
    {
      "cell_type": "markdown",
      "source": [
        "# Algoritmos Evolutivos"
      ],
      "metadata": {
        "id": "FP86jQGZoISJ"
      }
    },
    {
      "cell_type": "markdown",
      "source": [
        "## Rosenbrock"
      ],
      "metadata": {
        "id": "rYNi9AxUpXIL"
      }
    },
    {
      "cell_type": "markdown",
      "source": [
        "### Evolución diferencial"
      ],
      "metadata": {
        "id": "h7F-k5h0pasG"
      }
    },
    {
      "cell_type": "code",
      "source": [
        "from scipy.optimize import differential_evolution\n",
        "\n",
        "def funcion_rosenbrock(x, a=1, b=100):\n",
        "    \"\"\"Calcula el valor de la función de Rosenbrock para un vector x.\n",
        "\n",
        "    Args:\n",
        "      x (array): Vector de entrada (debe ser de tamaño 2).\n",
        "      a (float): Parámetro de la función (por defecto 1).\n",
        "      b (float): Parámetro de la función (por defecto 100).\n",
        "\n",
        "    Retorna:\n",
        "    float: Valor de la función de Rosenbrock.\n",
        "    \"\"\"\n",
        "    if len(x) < 2:\n",
        "        raise ValueError(\"La función de Rosenbrock está implementada solo para al menos 2 dimensiones.\")\n",
        "    return (a - x[0])**2 + b * (x[1] - x[0]**2)**2 + sum((a - x[i])**2 + b * (x[i+1] - x[i]**2)**2 for i in range(1, len(x)-1))\n",
        "\n",
        "# Definimos el rango de búsqueda para cada dimensión\n",
        "bounds_2d = [(-5, 5), (-5, 5)]\n",
        "bounds_3d = [(-5, 5), (-5, 5), (-5, 5)]\n",
        "\n",
        "# Optimización en 2 dimensiones\n",
        "result_2d = differential_evolution(funcion_rosenbrock, bounds_2d)\n",
        "print(\"Resultado DE (2D):\", result_2d)\n",
        "\n",
        "# Optimización en 3 dimensiones\n",
        "result_3d = differential_evolution(funcion_rosenbrock, bounds_3d)\n",
        "print(\"Resultado DE (3D):\", result_3d)"
      ],
      "metadata": {
        "colab": {
          "base_uri": "https://localhost:8080/"
        },
        "id": "TRrxeLT_oKT9",
        "outputId": "f85567d8-5d23-4151-a41e-ab4bb327096c"
      },
      "execution_count": 9,
      "outputs": [
        {
          "output_type": "stream",
          "name": "stdout",
          "text": [
            "Resultado DE (2D):              message: Optimization terminated successfully.\n",
            "             success: True\n",
            "                 fun: 4.979684464207637e-30\n",
            "                   x: [ 1.000e+00  1.000e+00]\n",
            "                 nit: 126\n",
            "                nfev: 3813\n",
            "          population: [[ 1.000e+00  1.000e+00]\n",
            "                       [ 1.000e+00  1.000e+00]\n",
            "                       ...\n",
            "                       [ 1.000e+00  1.000e+00]\n",
            "                       [ 1.000e+00  1.000e+00]]\n",
            " population_energies: [ 4.980e-30  4.980e-30 ...  4.980e-30  4.980e-30]\n",
            "Resultado DE (3D):              message: Optimization terminated successfully.\n",
            "             success: True\n",
            "                 fun: 9.959368928415274e-30\n",
            "                   x: [ 1.000e+00  1.000e+00  1.000e+00]\n",
            "                 nit: 244\n",
            "                nfev: 11029\n",
            "          population: [[ 1.000e+00  1.000e+00  1.000e+00]\n",
            "                       [ 1.000e+00  1.000e+00  1.000e+00]\n",
            "                       ...\n",
            "                       [ 1.000e+00  1.000e+00  1.000e+00]\n",
            "                       [ 1.000e+00  1.000e+00  1.000e+00]]\n",
            " population_energies: [ 9.959e-30  9.959e-30 ...  9.959e-30  9.959e-30]\n"
          ]
        }
      ]
    },
    {
      "cell_type": "markdown",
      "source": [
        "### Optimización de particulas"
      ],
      "metadata": {
        "id": "ZSd4yrvUphBv"
      }
    },
    {
      "cell_type": "code",
      "source": [
        "import pyswarms as ps\n",
        "\n",
        "# Definimos la función objetivo\n",
        "def rosenbrock_pso(x):\n",
        "    return np.apply_along_axis(funcion_rosenbrock, 1, x)\n",
        "\n",
        "# Configuración para 2D y 3D\n",
        "options = {'c1': 0.5, 'c2': 0.3, 'w': 0.9}  # Coeficientes del algoritmo PSO\n",
        "bounds_2d = (np.array([-5, -5]), np.array([5, 5]))\n",
        "bounds_3d = (np.array([-5, -5, -5]), np.array([5, 5, 5]))\n",
        "\n",
        "# PSO para 2D\n",
        "optimizer_2d = ps.single.GlobalBestPSO(n_particles=50, dimensions=2, options=options, bounds=bounds_2d)\n",
        "best_cost_2d, best_pos_2d = optimizer_2d.optimize(rosenbrock_pso, iters=100)\n",
        "print(\"Resultado PSO (2D):\", best_cost_2d, best_pos_2d)\n",
        "\n",
        "# PSO para 3D\n",
        "optimizer_3d = ps.single.GlobalBestPSO(n_particles=50, dimensions=3, options=options, bounds=bounds_3d)\n",
        "best_cost_3d, best_pos_3d = optimizer_3d.optimize(rosenbrock_pso, iters=1000)\n",
        "print(\"Resultado PSO (3D):\", best_cost_3d, best_pos_3d)"
      ],
      "metadata": {
        "colab": {
          "base_uri": "https://localhost:8080/"
        },
        "id": "q7ELl5Cc29qw",
        "outputId": "f9bc6301-2677-454d-d85f-86a5fdf844f4"
      },
      "execution_count": 10,
      "outputs": [
        {
          "output_type": "stream",
          "name": "stderr",
          "text": [
            "2024-11-30 04:47:31,803 - pyswarms.single.global_best - INFO - Optimize for 100 iters with {'c1': 0.5, 'c2': 0.3, 'w': 0.9}\n",
            "pyswarms.single.global_best: 100%|██████████|100/100, best_cost=5.02e-5\n",
            "2024-11-30 04:47:32,071 - pyswarms.single.global_best - INFO - Optimization finished | best cost: 5.016486241380026e-05, best pos: [1.00705817 1.01422508]\n",
            "2024-11-30 04:47:32,105 - pyswarms.single.global_best - INFO - Optimize for 1000 iters with {'c1': 0.5, 'c2': 0.3, 'w': 0.9}\n"
          ]
        },
        {
          "output_type": "stream",
          "name": "stdout",
          "text": [
            "Resultado PSO (2D): 5.016486241380026e-05 [1.00705817 1.01422508]\n"
          ]
        },
        {
          "output_type": "stream",
          "name": "stderr",
          "text": [
            "pyswarms.single.global_best: 100%|██████████|1000/1000, best_cost=2.22e-7\n",
            "2024-11-30 04:47:39,117 - pyswarms.single.global_best - INFO - Optimization finished | best cost: 2.2191093574781943e-07, best pos: [1.00020893 1.00042098 1.00084119]\n"
          ]
        },
        {
          "output_type": "stream",
          "name": "stdout",
          "text": [
            "Resultado PSO (3D): 2.2191093574781943e-07 [1.00020893 1.00042098 1.00084119]\n"
          ]
        }
      ]
    },
    {
      "cell_type": "markdown",
      "source": [
        "### Algoritmo evolutivo"
      ],
      "metadata": {
        "id": "3maX_eXrX07_"
      }
    },
    {
      "cell_type": "code",
      "source": [
        "from deap import base, creator, tools, algorithms\n",
        "import random\n",
        "\n",
        "# Configuración de la función objetivo con DEAP\n",
        "def rosenbrock_deap(individual):\n",
        "    \"\"\"Función objetivo para DEAP, adaptada para evaluar un individuo.\"\"\"\n",
        "    return (funcion_rosenbrock(individual),)  # Regresamos una tupla porque DEAP espera múltiples objetivos\n",
        "\n",
        "# Crear clases para el problema\n",
        "creator.create(\"FitnessMin\", base.Fitness, weights=(-1.0,))  # Minimizar la función\n",
        "creator.create(\"Individual\", list, fitness=creator.FitnessMin)\n",
        "\n",
        "toolbox = base.Toolbox()\n",
        "\n",
        "# Crear individuos y población\n",
        "toolbox.register(\"attr_float\", random.uniform, -5, 5)  # Rango de búsqueda [-5, 5]\n",
        "toolbox.register(\"individual\", tools.initRepeat, creator.Individual, toolbox.attr_float, n=2)  # Tamaño del individuo = 2 (para 2 dimensiones)\n",
        "toolbox.register(\"population\", tools.initRepeat, list, toolbox.individual)\n",
        "\n",
        "# Operadores genéticos\n",
        "toolbox.register(\"evaluate\", rosenbrock_deap)\n",
        "toolbox.register(\"mate\", tools.cxBlend, alpha=0.5)  # Cruce (Blend crossover)\n",
        "toolbox.register(\"mutate\", tools.mutGaussian, mu=0, sigma=1, indpb=0.2)  # Mutación\n",
        "toolbox.register(\"select\", tools.selTournament, tournsize=3)  # Selección por torneo\n",
        "\n",
        "# Algoritmo Genético\n",
        "def run_ga(dimensions=2, population_size=100, generations=100):\n",
        "    \"\"\"Ejecuta el algoritmo genético con DEAP.\"\"\"\n",
        "    # Crear la población inicial\n",
        "    population = toolbox.population(n=population_size)\n",
        "\n",
        "    # Ejecutar el algoritmo genético\n",
        "    result, log = algorithms.eaSimple(\n",
        "        population,\n",
        "        toolbox,\n",
        "        cxpb=0.6,  # Reduce ligeramente cruce\n",
        "        mutpb=0.4,  # Aumenta mutación\n",
        "        ngen=300,   # Más generaciones\n",
        "        verbose=False\n",
        "    )\n",
        "\n",
        "    # Seleccionar el mejor individuo\n",
        "    best_individual = tools.selBest(population, k=1)[0]\n",
        "    return best_individual, funcion_rosenbrock(best_individual)\n",
        "\n",
        "# Ejecutar para 2 dimensiones]\n",
        "best_ind_2d, best_cost_2d = run_ga(dimensions=2, population_size=300, generations=500)\n",
        "print(\"Resultado GA (2D):\", best_ind_2d, \"Costo:\", best_cost_2d)"
      ],
      "metadata": {
        "colab": {
          "base_uri": "https://localhost:8080/"
        },
        "id": "jJ4FSiL8xY4s",
        "outputId": "4a2af48b-ee38-4742-f1d0-e8906cfca6b9"
      },
      "execution_count": 11,
      "outputs": [
        {
          "output_type": "stream",
          "name": "stdout",
          "text": [
            "Resultado GA (2D): [0.9836535371335493, 0.9675140156538657] Costo: 0.000267570040828956\n"
          ]
        }
      ]
    },
    {
      "cell_type": "markdown",
      "source": [
        "## Rastringin\n",
        "\n"
      ],
      "metadata": {
        "id": "tRaIHjuK3gat"
      }
    },
    {
      "cell_type": "markdown",
      "source": [
        "### Evolución diferencial"
      ],
      "metadata": {
        "id": "YGrlqmkwXcpM"
      }
    },
    {
      "cell_type": "code",
      "source": [
        "def funcion_rastrigin(x, A=10):\n",
        "    \"\"\"Calcula el valor de la función de Rastrigin para un vector x.\n",
        "\n",
        "    Args:\n",
        "      x (array): Vector de entrada.\n",
        "      A (float): Parámetro de la función (por defecto 10).\n",
        "\n",
        "    Retorna:\n",
        "      float: Valor de la función de Rastrigin.\n",
        "    \"\"\"\n",
        "    n = len(x)\n",
        "    return A * n + np.sum(x**2 - A * np.cos(2 * np.pi * x))\n",
        "\n",
        "# Definimos el rango de búsqueda para cada dimensión\n",
        "bounds_2d = [(-5.12, 5.12), (-5.12, 5.12)]\n",
        "bounds_3d = [(-5.12, 5.12), (-5.12, 5.12), (-5.12, 5.12)]\n",
        "\n",
        "# Optimización en 2 dimensiones\n",
        "result_2d = differential_evolution(funcion_rastrigin, bounds_2d)\n",
        "print(\"Resultado DE (2D):\", result_2d)\n",
        "\n",
        "# Optimización en 3 dimensiones\n",
        "result_3d = differential_evolution(funcion_rastrigin, bounds_3d)\n",
        "print(\"Resultado DE (3D):\", result_3d)"
      ],
      "metadata": {
        "colab": {
          "base_uri": "https://localhost:8080/"
        },
        "id": "--SkSNOu05r8",
        "outputId": "62801664-229c-4fd6-fe61-3c3169d36471"
      },
      "execution_count": 12,
      "outputs": [
        {
          "output_type": "stream",
          "name": "stdout",
          "text": [
            "Resultado DE (2D):              message: Optimization terminated successfully.\n",
            "             success: True\n",
            "                 fun: 0.0\n",
            "                   x: [ 2.519e-09 -1.156e-09]\n",
            "                 nit: 65\n",
            "                nfev: 1983\n",
            "          population: [[ 2.519e-09 -1.156e-09]\n",
            "                       [-1.151e-09 -3.121e-09]\n",
            "                       ...\n",
            "                       [ 2.329e-09 -1.417e-10]\n",
            "                       [ 2.915e-10 -8.283e-10]]\n",
            " population_energies: [ 0.000e+00  0.000e+00 ...  0.000e+00  0.000e+00]\n",
            "Resultado DE (3D):              message: Optimization terminated successfully.\n",
            "             success: True\n",
            "                 fun: 0.0\n",
            "                   x: [-6.893e-10 -9.393e-10 -8.071e-10]\n",
            "                 nit: 93\n",
            "                nfev: 4234\n",
            "          population: [[-6.893e-10 -9.393e-10 -8.071e-10]\n",
            "                       [-1.268e-09 -1.103e-09 -2.266e-09]\n",
            "                       ...\n",
            "                       [ 3.571e-09 -1.328e-09 -1.229e-09]\n",
            "                       [ 1.044e-09 -2.651e-09  2.785e-09]]\n",
            " population_energies: [ 0.000e+00  0.000e+00 ...  0.000e+00  0.000e+00]\n"
          ]
        }
      ]
    },
    {
      "cell_type": "markdown",
      "source": [
        "### Optimización de particulas"
      ],
      "metadata": {
        "id": "m9zibDRdXnO4"
      }
    },
    {
      "cell_type": "code",
      "source": [
        "import pyswarms as ps\n",
        "\n",
        "# Definimos la función objetivo\n",
        "def rastringin_pso(x):\n",
        "    return np.apply_along_axis(funcion_rastrigin, 1, x)\n",
        "\n",
        "# Configuración para 2D y 3D\n",
        "options = {'c1': 0.5, 'c2': 0.3, 'w': 0.9}  # Coeficientes del algoritmo PSO\n",
        "bounds_2d = (np.array([-5.12, -5.12]), np.array([5.12, 5.12]))\n",
        "bounds_3d = (np.array([-5.12, -5.12, -5.12]), np.array([5.12, 5.12, 5.12]))\n",
        "\n",
        "# PSO para 2D\n",
        "optimizer_2d = ps.single.GlobalBestPSO(n_particles=100, dimensions=2, options=options, bounds=bounds_2d)\n",
        "best_cost_2d, best_pos_2d = optimizer_2d.optimize(rastringin_pso, iters=100)\n",
        "print(\"Resultado PSO (2D):\", best_cost_2d, best_pos_2d)\n",
        "\n",
        "# PSO para 3D\n",
        "optimizer_3d = ps.single.GlobalBestPSO(n_particles=100, dimensions=3, options=options, bounds=bounds_3d)\n",
        "best_cost_3d, best_pos_3d = optimizer_3d.optimize(rastringin_pso, iters=1000)\n",
        "print(\"Resultado PSO (3D):\", best_cost_3d, best_pos_3d)"
      ],
      "metadata": {
        "colab": {
          "base_uri": "https://localhost:8080/"
        },
        "id": "mLcV1Ma035d0",
        "outputId": "35a63e42-1ea2-4ab3-bb34-b96d2e5e80e7"
      },
      "execution_count": 13,
      "outputs": [
        {
          "output_type": "stream",
          "name": "stderr",
          "text": [
            "2024-11-30 04:47:45,252 - pyswarms.single.global_best - INFO - Optimize for 100 iters with {'c1': 0.5, 'c2': 0.3, 'w': 0.9}\n",
            "pyswarms.single.global_best: 100%|██████████|100/100, best_cost=5.66e-7\n",
            "2024-11-30 04:47:45,717 - pyswarms.single.global_best - INFO - Optimization finished | best cost: 5.661129947043264e-07, best pos: [2.14910808e-06 5.33749686e-05]\n",
            "2024-11-30 04:47:45,730 - pyswarms.single.global_best - INFO - Optimize for 1000 iters with {'c1': 0.5, 'c2': 0.3, 'w': 0.9}\n"
          ]
        },
        {
          "output_type": "stream",
          "name": "stdout",
          "text": [
            "Resultado PSO (2D): 5.661129947043264e-07 [2.14910808e-06 5.33749686e-05]\n"
          ]
        },
        {
          "output_type": "stream",
          "name": "stderr",
          "text": [
            "pyswarms.single.global_best: 100%|██████████|1000/1000, best_cost=0\n",
            "2024-11-30 04:47:51,253 - pyswarms.single.global_best - INFO - Optimization finished | best cost: 0.0, best pos: [ 1.67117283e-09 -3.56071624e-09  6.12646323e-10]\n"
          ]
        },
        {
          "output_type": "stream",
          "name": "stdout",
          "text": [
            "Resultado PSO (3D): 0.0 [ 1.67117283e-09 -3.56071624e-09  6.12646323e-10]\n"
          ]
        }
      ]
    },
    {
      "cell_type": "markdown",
      "source": [
        "### Algoritmo Evolutivo"
      ],
      "metadata": {
        "id": "ObadSkBQX8d9"
      }
    },
    {
      "cell_type": "code",
      "source": [
        "import numpy as np\n",
        "from deap import base, creator, tools, algorithms\n",
        "import random\n",
        "\n",
        "# Función de Rastrigin\n",
        "def funcion_rastrigin(x, A=10):\n",
        "    \"\"\"Calcula el valor de la función de Rastrigin para un vector x.\n",
        "\n",
        "    Args:\n",
        "      x (array): Vector de entrada.\n",
        "      A (float): Parámetro de la función (por defecto 10).\n",
        "\n",
        "    Retorna:\n",
        "      float: Valor de la función de Rastrigin.\n",
        "    \"\"\"\n",
        "    x = np.array(x)\n",
        "    n = len(x)\n",
        "    return A * n + np.sum(x**2 - A * np.cos(2 * np.pi * x))\n",
        "\n",
        "# Configuración de la función objetivo con DEAP\n",
        "def rastrigin_deap(individual):\n",
        "    \"\"\"Función objetivo para DEAP, adaptada para evaluar un individuo.\"\"\"\n",
        "    return (funcion_rastrigin(individual),)  # Regresamos una tupla porque DEAP espera múltiples objetivos\n",
        "\n",
        "# Crear clases para el problema\n",
        "creator.create(\"FitnessMin\", base.Fitness, weights=(-1.0,))  # Minimizar la función\n",
        "creator.create(\"Individual\", list, fitness=creator.FitnessMin)\n",
        "\n",
        "toolbox = base.Toolbox()\n",
        "\n",
        "# Crear individuos y población\n",
        "toolbox.register(\"attr_float\", random.uniform, -5.12, 5.12)  # Rango de búsqueda [-5, 5]\n",
        "toolbox.register(\"individual\", tools.initRepeat, creator.Individual, toolbox.attr_float, n=2)  # Tamaño del individuo = 2 (para 2 dimensiones)\n",
        "toolbox.register(\"population\", tools.initRepeat, list, toolbox.individual)\n",
        "\n",
        "# Operadores genéticos\n",
        "toolbox.register(\"evaluate\", rastrigin_deap)\n",
        "toolbox.register(\"mate\", tools.cxBlend, alpha=0.5)  # Cruce (Blend crossover)\n",
        "toolbox.register(\"mutate\", tools.mutGaussian, mu=0, sigma=1, indpb=0.2)  # Mutación\n",
        "toolbox.register(\"select\", tools.selTournament, tournsize=3)  # Selección por torneo\n",
        "\n",
        "\n",
        "# Algoritmo Genético\n",
        "def run_ga(dimensions=2, population_size=1000, generations=1000):\n",
        "    \"\"\"Ejecuta el algoritmo genético con DEAP.\"\"\"\n",
        "    # Crear la población inicial\n",
        "    population = toolbox.population(n=population_size)\n",
        "\n",
        "    # Ejecutar el algoritmo genético\n",
        "    result, log = algorithms.eaSimple(\n",
        "        population,\n",
        "        toolbox,\n",
        "        cxpb=0.6,  # Reduce ligeramente cruce\n",
        "        mutpb=0.4,  # Aumenta mutación\n",
        "        ngen=300,   # Más generaciones\n",
        "        verbose=False\n",
        "    )\n",
        "\n",
        "    # Seleccionar el mejor individuo\n",
        "    best_individual = tools.selBest(population, k=1)[0]\n",
        "    return best_individual, funcion_rastrigin(best_individual)\n",
        "\n",
        "# Ejecutar para 2 dimensiones\n",
        "best_ind_2d, best_cost_2d = run_ga(dimensions=2, population_size=300, generations=500)\n",
        "print(\"Resultado GA (2D):\", np.round(best_ind_2d, 3), \"Costo:\", best_cost_2d)"
      ],
      "metadata": {
        "colab": {
          "base_uri": "https://localhost:8080/"
        },
        "id": "iatNrarB4HtA",
        "outputId": "ab3be497-9eec-491d-bf3e-314e08959586"
      },
      "execution_count": 14,
      "outputs": [
        {
          "output_type": "stream",
          "name": "stderr",
          "text": [
            "/usr/local/lib/python3.10/dist-packages/deap/creator.py:185: RuntimeWarning: A class named 'FitnessMin' has already been created and it will be overwritten. Consider deleting previous creation of that class or rename it.\n",
            "  warnings.warn(\"A class named '{0}' has already been created and it \"\n",
            "/usr/local/lib/python3.10/dist-packages/deap/creator.py:185: RuntimeWarning: A class named 'Individual' has already been created and it will be overwritten. Consider deleting previous creation of that class or rename it.\n",
            "  warnings.warn(\"A class named '{0}' has already been created and it \"\n"
          ]
        },
        {
          "output_type": "stream",
          "name": "stdout",
          "text": [
            "Resultado GA (2D): [-0. -0.] Costo: 0.0\n"
          ]
        }
      ]
    }
  ]
}